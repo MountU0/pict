{
 "cells": [
  {
   "cell_type": "code",
   "execution_count": 2,
   "metadata": {},
   "outputs": [],
   "source": [
    "import pandas as pd\n",
    "import numpy as np"
   ]
  },
  {
   "cell_type": "code",
   "execution_count": 3,
   "metadata": {},
   "outputs": [
    {
     "data": {
      "text/html": [
       "<div>\n",
       "<style scoped>\n",
       "    .dataframe tbody tr th:only-of-type {\n",
       "        vertical-align: middle;\n",
       "    }\n",
       "\n",
       "    .dataframe tbody tr th {\n",
       "        vertical-align: top;\n",
       "    }\n",
       "\n",
       "    .dataframe thead th {\n",
       "        text-align: right;\n",
       "    }\n",
       "</style>\n",
       "<table border=\"1\" class=\"dataframe\">\n",
       "  <thead>\n",
       "    <tr style=\"text-align: right;\">\n",
       "      <th></th>\n",
       "      <th>CanonicalizedReaction</th>\n",
       "      <th>Yield</th>\n",
       "    </tr>\n",
       "  </thead>\n",
       "  <tbody>\n",
       "    <tr>\n",
       "      <th>0</th>\n",
       "      <td>CC(C)(C)NNC(C)(C#N)C1CC1.O=C1CCCCCC1&gt;CC(=O)C1C...</td>\n",
       "      <td>95.0</td>\n",
       "    </tr>\n",
       "    <tr>\n",
       "      <th>1</th>\n",
       "      <td>CC(C)N.O=C1CCC(c2ccc(OCC3CO3)cc2)=NN1&gt;CO&gt;CC(C)...</td>\n",
       "      <td>100.0</td>\n",
       "    </tr>\n",
       "    <tr>\n",
       "      <th>2</th>\n",
       "      <td>CO.O=C(O)CCC(=O)c1ccccc1O&gt;Cl&gt;COC(=O)CCC(=O)c1c...</td>\n",
       "      <td>98.0</td>\n",
       "    </tr>\n",
       "    <tr>\n",
       "      <th>3</th>\n",
       "      <td>CC(=O)c1ccc2c(c1)C(C)(C)c1cccnc1O2.[OH-]&gt;BrBr....</td>\n",
       "      <td>78.6</td>\n",
       "    </tr>\n",
       "    <tr>\n",
       "      <th>4</th>\n",
       "      <td>CSc1ccc(N=C=O)cc1.OCc1cccnc1&gt;C1CN2CCN1CC2.c1cc...</td>\n",
       "      <td>95.0</td>\n",
       "    </tr>\n",
       "    <tr>\n",
       "      <th>...</th>\n",
       "      <td>...</td>\n",
       "      <td>...</td>\n",
       "    </tr>\n",
       "    <tr>\n",
       "      <th>26399</th>\n",
       "      <td>N#Cc1c(-c2ccc(O)cc2)nn2c1NCCC2c1ccccc1N.O=C(Cl...</td>\n",
       "      <td>62.0</td>\n",
       "    </tr>\n",
       "    <tr>\n",
       "      <th>26400</th>\n",
       "      <td>NC(=O)c1c(-c2ccc(Oc3ccccc3)cc2)nn2c1ncc1ccc([N...</td>\n",
       "      <td>83.0</td>\n",
       "    </tr>\n",
       "    <tr>\n",
       "      <th>26401</th>\n",
       "      <td>CC(C)(C)OC(=O)NCCN1CCN(C/C=C/C(=O)O)CC1.NC(=O)...</td>\n",
       "      <td>58.0</td>\n",
       "    </tr>\n",
       "    <tr>\n",
       "      <th>26402</th>\n",
       "      <td>Cc1nc2c(OCC3CCCCC3)cccn2c1C(=O)N[C@@H](CN(C)S(...</td>\n",
       "      <td>57.6</td>\n",
       "    </tr>\n",
       "    <tr>\n",
       "      <th>26403</th>\n",
       "      <td>COc1ccc2cc(N)ccc2c1.O=C1CCC(=O)N1Br&gt;CC#N&gt;COc1c...</td>\n",
       "      <td>74.4</td>\n",
       "    </tr>\n",
       "  </tbody>\n",
       "</table>\n",
       "<p>26404 rows × 2 columns</p>\n",
       "</div>"
      ],
      "text/plain": [
       "                                   CanonicalizedReaction  Yield\n",
       "0      CC(C)(C)NNC(C)(C#N)C1CC1.O=C1CCCCCC1>CC(=O)C1C...   95.0\n",
       "1      CC(C)N.O=C1CCC(c2ccc(OCC3CO3)cc2)=NN1>CO>CC(C)...  100.0\n",
       "2      CO.O=C(O)CCC(=O)c1ccccc1O>Cl>COC(=O)CCC(=O)c1c...   98.0\n",
       "3      CC(=O)c1ccc2c(c1)C(C)(C)c1cccnc1O2.[OH-]>BrBr....   78.6\n",
       "4      CSc1ccc(N=C=O)cc1.OCc1cccnc1>C1CN2CCN1CC2.c1cc...   95.0\n",
       "...                                                  ...    ...\n",
       "26399  N#Cc1c(-c2ccc(O)cc2)nn2c1NCCC2c1ccccc1N.O=C(Cl...   62.0\n",
       "26400  NC(=O)c1c(-c2ccc(Oc3ccccc3)cc2)nn2c1ncc1ccc([N...   83.0\n",
       "26401  CC(C)(C)OC(=O)NCCN1CCN(C/C=C/C(=O)O)CC1.NC(=O)...   58.0\n",
       "26402  Cc1nc2c(OCC3CCCCC3)cccn2c1C(=O)N[C@@H](CN(C)S(...   57.6\n",
       "26403  COc1ccc2cc(N)ccc2c1.O=C1CCC(=O)N1Br>CC#N>COc1c...   74.4\n",
       "\n",
       "[26404 rows x 2 columns]"
      ]
     },
     "execution_count": 3,
     "metadata": {},
     "output_type": "execute_result"
    }
   ],
   "source": [
    "data = pd.read_csv(\"data.csv\",  sep=\"\\t\")\n",
    "data.drop(['Unnamed: 0', 'myID', 'Source', 'Target', 'OriginalReaction'], axis=1, inplace=True)\n",
    "data"
   ]
  },
  {
   "cell_type": "code",
   "execution_count": 22,
   "metadata": {},
   "outputs": [
    {
     "data": {
      "text/plain": [
       "'CC(O)c1ccc(-c2ccc([N+](=O)[O-])cc2)o1>CO.O.[Pd]>CC(O)c1ccc(-c2ccc(N)cc2)o1'"
      ]
     },
     "execution_count": 22,
     "metadata": {},
     "output_type": "execute_result"
    }
   ],
   "source": [
    "def find_nth(haystack, needle, n):\n",
    "    start = haystack.find(needle)\n",
    "    while start >= 0 and n > 1:\n",
    "        start = haystack.find(needle, start+len(needle))\n",
    "        n -= 1\n",
    "    return start\n",
    "\n",
    "def smiles_parse(smiles):\n",
    "    result = []\n",
    "    result.append(smiles[:smiles.find(\".\")])\n",
    "    product = smiles[smiles.find(\".\") + 1:]\n",
    "\n",
    "    product = product[:find_nth(product, \">\", 1)] +\">\"+ product[find_nth(product, \">\", 2):]\n",
    "    result.append(product)\n",
    "    return result\n",
    "\n",
    "# smiles_parse(data[\"CanonicalizedReaction\"][0])\n",
    "\n",
    "\n",
    "data['res1'], data['res2'] =  zip(*data[\"CanonicalizedReaction\"].map(smiles_parse))\n",
    "data[\"CanonicalizedReaction\"][10]"
   ]
  }
 ],
 "metadata": {
  "kernelspec": {
   "display_name": "base",
   "language": "python",
   "name": "python3"
  },
  "language_info": {
   "codemirror_mode": {
    "name": "ipython",
    "version": 3
   },
   "file_extension": ".py",
   "mimetype": "text/x-python",
   "name": "python",
   "nbconvert_exporter": "python",
   "pygments_lexer": "ipython3",
   "version": "3.10.9"
  },
  "orig_nbformat": 4
 },
 "nbformat": 4,
 "nbformat_minor": 2
}
